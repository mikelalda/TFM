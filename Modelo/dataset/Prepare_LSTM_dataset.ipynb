{
 "cells": [
  {
   "cell_type": "code",
   "execution_count": null,
   "id": "be5978a0",
   "metadata": {},
   "outputs": [],
   "source": [
    "import zipfile\n",
    "import time\n",
    "import os\n",
    "\n",
    "directorio = 'D:/Ikasketak/UNIR/08_TFM/TFM/Modelo/dataset_nyuv2'\n",
    "\n",
    "for archivo in os.listdir(directorio):\n",
    "    if os.path.isfile(os.path.join(directorio, archivo)):\n",
    "        if archivo.split('.')[-1] == 'zip':\n",
    "            with zipfile.ZipFile(os.path.join(directorio, archivo), 'r') as zip_ref:\n",
    "                zip_ref.extractall(os.path.dirname(os.path.join(directorio, archivo)))\n",
    "\n",
    "            time.sleep(1)\n",
    "            os.remove(os.path.join(directorio, archivo))"
   ]
  },
  {
   "cell_type": "code",
   "execution_count": 1,
   "id": "7cefcb37",
   "metadata": {},
   "outputs": [],
   "source": [
    "import os\n",
    "directorio = 'D:/Ikasketak/UNIR/08_TFM/TFM/Modelo/dataset_nyuv2'\n",
    "# Mirar todos los archivos del directorio\n",
    "for archivo in os.listdir(directorio):\n",
    "    # Si es carpeta\n",
    "    if os.path.isdir(os.path.join(directorio, archivo)):\n",
    "        # Crear documento txt para meter todos los nombres de los archivos a utilizar\n",
    "        archi1=open(os.path.join(directorio, archivo)+\".txt\",\"w\") \n",
    "\n",
    "        n_dir = os.path.join(directorio, archivo)\n",
    "\n",
    "        # Si es\n",
    "        for archivo in os.listdir(n_dir):\n",
    "            if archivo.split('-')[0] != 'a':\n",
    "                archi1.write(os.path.join(n_dir, archivo)+\"\\n\") \n",
    "        archi1.close()"
   ]
  },
  {
   "cell_type": "code",
   "execution_count": null,
   "id": "7c4252d1",
   "metadata": {},
   "outputs": [],
   "source": [
    "directorio = 'D:/Ikasketak/UNIR/08_TFM/TFM/Modelo/dataset_nyuv2'\n",
    "for archivo in os.listdir(directorio):\n",
    "    if os.path.isfile(os.path.join(directorio, archivo)):\n",
    "        if archivo.split('.')[-1] == 'txt':\n",
    "            with open(archivo) as f:\n",
    "                lines = f.readlines()\n",
    "                cont = 0 \n",
    "                for j in lines:\n",
    "                    #Egin beharrekue idatzi\n",
    "                    if cont == lim:\n",
    "                        continue"
   ]
  }
 ],
 "metadata": {
  "kernelspec": {
   "display_name": "Python 3 (ipykernel)",
   "language": "python",
   "name": "python3"
  },
  "language_info": {
   "codemirror_mode": {
    "name": "ipython",
    "version": 3
   },
   "file_extension": ".py",
   "mimetype": "text/x-python",
   "name": "python",
   "nbconvert_exporter": "python",
   "pygments_lexer": "ipython3",
   "version": "3.8.11"
  }
 },
 "nbformat": 4,
 "nbformat_minor": 5
}
