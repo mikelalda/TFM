{
 "cells": [
  {
   "cell_type": "code",
   "execution_count": 2,
   "id": "measured-phoenix",
   "metadata": {},
   "outputs": [
    {
     "name": "stdout",
     "output_type": "stream",
     "text": [
      "2.5.0\n"
     ]
    }
   ],
   "source": [
    "import tensorflow as tf\n",
    "print(tf.__version__)\n",
    "physical_devices = tf.config.experimental.list_physical_devices('GPU')\n",
    "if len(physical_devices) > 0:\n",
    "    tf.config.experimental.set_memory_growth(physical_devices[0], True)"
   ]
  },
  {
   "cell_type": "code",
   "execution_count": 5,
   "id": "collect-mobile",
   "metadata": {},
   "outputs": [],
   "source": [
    "class My_model_class():\n",
    "\n",
    "    def __init__(self):\n",
    "        '''\n",
    "        Crear el modelos para segmentación\n",
    "        '''\n",
    "\n",
    "    def rgbd_fusion(self,input_r,input_d):\n",
    "        r_1 = tf.keras.layers.GlobalAveragePooling2D()(input_r)\n",
    "        r_2 = tf.keras.layers.Conv2D(4, kernel_size=(1,1), activation='ReLU')(r_1)\n",
    "        r_3 = tf.keras.layers.Conv2D(64, kernel_size=(1,1), activation='Sigmoid')(r_2)\n",
    "        m_1 = tf.keras.layers.Mul(input_r,r_3)\n",
    "        \n",
    "        d_1 = tf.keras.layers.GlobalAveragePooling2D()(input_d)\n",
    "        r_2 = tf.keras.layers.Conv2D(4, kernel_size=(1,1), activation='ReLU')(r_1)\n",
    "        r_3 = tf.keras.layers.Conv2D(64, kernel_size=(1,1), activation='Sigmoid')(r_2)\n",
    "        m_2 = tf.keras.layers.Mul(input_d,d_2)\n",
    "        \n",
    "        return tf.keras.layers.Add(m_1,m_2)\n",
    "\n",
    "    def resnet_layer(self,input_res, filters):\n",
    "        x = tf.keras.layers.Conv2D(filters, kernel_size=(3,1), activation='relu', padding='same')(input_res)\n",
    "        x = tf.keras.layers.BatchNormalization()(x)\n",
    "        x = tf.keras.layers.Conv2D(filters, kernel_size=(1,3), activation='relu', padding='same')(x)\n",
    "        x = tf.keras.layers.BatchNormalization()(x)\n",
    "        x = tf.keras.layers.Conv2D(filters, kernel_size=(3,1), activation='relu', padding='same')(x)\n",
    "        x = tf.keras.layers.BatchNormalization()(x)\n",
    "        x = tf.keras.layers.Conv2D(filters, kernel_size=(1,3), activation='relu', padding='same')(x)\n",
    "        x = tf.keras.layers.BatchNormalization()(x)\n",
    "        x = tf.keras.layers.Add()([x, input_res])\n",
    "        x = tf.keras.layers.Activation('relu')(x)\n",
    "        return x\n",
    "\n",
    "    def context_module(self,input_con):\n",
    "        c_1 = tf.keras.layers.GlobalAveragePooling2D()(input_con)\n",
    "        c_2 = tf.keras.layers.AveragePooling2D()(input_con)\n",
    "\n",
    "        \n",
    "    def create_model(self):\n",
    "        input_rgb = tf.keras.layers.Input(shape=(1, 3, 480, 640),dtype=tf.float32)\n",
    "        input_depth = tf.keras.layers.Input(shape=(1, 1, 480, 640),dtype=tf.float32)\n",
    "        xr = tf.keras.layers.Conv2D(64,kernel_size=(7,7),strides=(2,2),padding='same',dilation_rate=(1,1),activation='relu')(input_rgb)\n",
    "        xd = tf.keras.layers.Conv2D(64,kernel_size=(7,7),strides=(2,2),padding='same',dilation_rate=(1,1),activation='relu')(input_depth)\n",
    "\n",
    "        xr = self.rgbd_fusion(xr,xd)\n",
    "\n",
    "        xr = tf.keras.layers.MaxPool2D(pool_size=(3,3), strides=(2,2), padding='same')\n",
    "        xd = tf.keras.layers.MaxPool2D(pool_size=(3,3), strides=(2,2), padding='same')\n",
    "\n",
    "        i = 4 # las veces que se repite el resnet_layer y la fusion rgbd\n",
    "        for j in range(i):\n",
    "            n = 4 # las veces que se repite el resnet_layer\n",
    "            for k in range(n):\n",
    "                xr = self.resnet_layer(xr,64)\n",
    "                xd = self.resnet_layer(xd,64)\n",
    "            \n",
    "            xr = self.rgbd_fusion(xr,xd)\n",
    "\n",
    "       \n",
    "\n"
   ]
  },
  {
   "cell_type": "code",
   "execution_count": 6,
   "id": "finnish-illustration",
   "metadata": {},
   "outputs": [],
   "source": [
    "model = My_model_class()"
   ]
  }
 ],
 "metadata": {
  "interpreter": {
   "hash": "1207818f02c8e106e76b126192fd4af7c5708815ebe301344494fac4b3fd23ae"
  },
  "kernelspec": {
   "display_name": "Python 3",
   "language": "python",
   "name": "python3"
  },
  "language_info": {
   "codemirror_mode": {
    "name": "ipython",
    "version": 3
   },
   "file_extension": ".py",
   "mimetype": "text/x-python",
   "name": "python",
   "nbconvert_exporter": "python",
   "pygments_lexer": "ipython3",
   "version": "3.8.8"
  }
 },
 "nbformat": 4,
 "nbformat_minor": 5
}
