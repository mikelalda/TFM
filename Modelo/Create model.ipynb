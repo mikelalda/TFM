{
 "cells": [
  {
   "cell_type": "code",
   "execution_count": 1,
   "metadata": {},
   "outputs": [],
   "source": [
    "import tensorflow as tf"
   ]
  },
  {
   "cell_type": "code",
   "execution_count": 2,
   "metadata": {},
   "outputs": [],
   "source": [
    "input_rgb = tf.keras.layers.Input(shape=(1, 3, 480, 640),dtype=tf.float32)\n",
    "input_depth = tf.keras.layers.Input(shape=(1, 1, 480, 640),dtype=tf.float32)"
   ]
  },
  {
   "cell_type": "code",
   "execution_count": 6,
   "metadata": {},
   "outputs": [],
   "source": [
    "class Model(tf.keras.Model):\r\n",
    "    \r\n",
    "    def __init__(self):\r\n",
    "        super(Model, self).__init__()\r\n",
    "        self.dense1 = tf.keras.layers.Dense(4, activation=tf.nn.relu)\r\n",
    "        self.dense2 = tf.keras.layers.Dense(5, activation=tf.nn.softmax)\r\n",
    "\r\n",
    "    def __init__(self, tipe='nyuv'):\r\n",
    "        '''\r\n",
    "        Crear el modelos ESANet con sus pesos\r\n",
    "        '''\r\n",
    "        self.\r\n",
    "\r\n",
    "    def rgbd_fusion(self,input_r,input_d):\r\n",
    "        r_1 = tf.keras.layers.GlobalAveragePooling2D()(input_r)\r\n",
    "        r_2 = tf.keras.layers.Conv2D(4, kernel_size=(1,1), activation='ReLU')(r_1)\r\n",
    "        r_3 = tf.keras.layers.Conv2D(64, kernel_size=(1,1), activation='Sigmoid')(r_2)\r\n",
    "        m_1 = tf.keras.layers.Mul(input_r,r_3)\r\n",
    "        \r\n",
    "        d_1 = tf.keras.layers.AveragePooling2D(activation='ReLU')(input_d)\r\n",
    "        d_2 = tf.keras.layers.AveragePooling2D(activation='Sigmoid')(d_1)\r\n",
    "        m_2 = tf.keras.layers.Mul(input_d,d_2)\r\n",
    "        \r\n",
    "        return tf.keras.layers.Add(m_1,m_2)\r\n",
    "    def resnet_layer(self,input_res):\r\n",
    "\r\n",
    "    def context_module(self,input_con):\r\n",
    "\r\n",
    "    def create_model():\r\n",
    "        input_rgb = tf.keras.layers.Input(shape=(1, 3, 480, 640),dtype=tf.float32)\r\n",
    "        input_depth = tf.keras.layers.Input(shape=(1, 1, 480, 640),dtype=tf.float32)\r\n",
    "        xr = tf.keras.layers.Conv2D(,)\r\n",
    "\r\n",
    "\r\n",
    "\r\n",
    "\r\n",
    "    def call(self, inputs):\r\n",
    "        return create_model()"
   ]
  },
  {
   "cell_type": "code",
   "execution_count": null,
   "metadata": {},
   "outputs": [],
   "source": []
  },
  {
   "cell_type": "code",
   "execution_count": 5,
   "metadata": {},
   "outputs": [],
   "source": [
    "model = Model()"
   ]
  }
 ],
 "metadata": {
  "kernelspec": {
   "display_name": "Python 3",
   "language": "python",
   "name": "python3"
  },
  "language_info": {
   "codemirror_mode": {
    "name": "ipython",
    "version": 3
   },
   "file_extension": ".py",
   "mimetype": "text/x-python",
   "name": "python",
   "nbconvert_exporter": "python",
   "pygments_lexer": "ipython3",
   "version": "3.8.8"
  }
 },
 "nbformat": 4,
 "nbformat_minor": 5
}