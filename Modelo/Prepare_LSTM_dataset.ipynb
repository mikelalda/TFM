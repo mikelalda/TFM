{
 "cells": [
  {
   "cell_type": "code",
   "execution_count": 2,
   "id": "be5978a0",
   "metadata": {},
   "outputs": [],
   "source": [
    "import zipfile\n",
    "import time\n",
    "import os\n",
    "\n",
    "directorio = 'D:/Ikasketak/UNIR/08_TFM/TFM/Modelo/dataset_nyuv2'\n",
    "\n",
    "for archivo in os.listdir(directorio):\n",
    "    if os.path.isfile(os.path.join(directorio, archivo)):\n",
    "        if archivo.split('.')[-1] == 'zip':\n",
    "            with zipfile.ZipFile(os.path.join(directorio, archivo), 'r') as zip_ref:\n",
    "                zip_ref.extractall(os.path.dirname(os.path.join(directorio, archivo)))\n",
    "\n",
    "            time.sleep(1)\n",
    "            os.remove(os.path.join(directorio, archivo))"
   ]
  },
  {
   "cell_type": "code",
   "execution_count": null,
   "id": "23cc71e1",
   "metadata": {},
   "outputs": [],
   "source": [
    "import os\n",
    "import cv2\n",
    "import numpy as np\n",
    "import matplotlib.pyplot as plt\n",
    "\n",
    "directorio = 'D:/Ikasketak/UNIR/08_TFM/TFM/Modelo/dataset_nyuv2'\n",
    "\n",
    "# Mirar todos los archivos del directorio\n",
    "for archivo in os.listdir(directorio):\n",
    "    # Si es carpeta\n",
    "    if os.path.isdir(os.path.join(directorio, archivo)):\n",
    "        # Crear documento txt para meter todos los nombres de los archivos a utilizar\n",
    "        archi1=open(os.path.join(directorio, archivo)+\".txt\",\"w\") \n",
    "        \n",
    "        n_dir = os.path.join(directorio, archivo)\n",
    "        \n",
    "        # Si es\n",
    "        for archivo in os.listdir(n_dir):\n",
    "            if archivo.split('-')[0] != 'a':\n",
    "                archi1.write(os.path.join(n_dir, archivo).replace('\\\\','/')+\"\\n\") "
   ]
  },
  {
   "cell_type": "code",
   "execution_count": 15,
   "id": "7cefcb37",
   "metadata": {
    "scrolled": true
   },
   "outputs": [
    {
     "name": "stdout",
     "output_type": "stream",
     "text": [
      "D:/Ikasketak/UNIR/08_TFM/TFM/Modelo/dataset_nyuv2\\basement_0001a\n",
      "D:/Ikasketak/UNIR/08_TFM/TFM/Modelo/dataset_nyuv2\\basement_0001b\n",
      "D:/Ikasketak/UNIR/08_TFM/TFM/Modelo/dataset_nyuv2\\bathroom_0002\n",
      "D:/Ikasketak/UNIR/08_TFM/TFM/Modelo/dataset_nyuv2\\bathroom_0003\n",
      "D:/Ikasketak/UNIR/08_TFM/TFM/Modelo/dataset_nyuv2\\bathroom_0004\n",
      "D:/Ikasketak/UNIR/08_TFM/TFM/Modelo/dataset_nyuv2\\bathroom_0005\n",
      "D:/Ikasketak/UNIR/08_TFM/TFM/Modelo/dataset_nyuv2\\bathroom_0006\n",
      "D:/Ikasketak/UNIR/08_TFM/TFM/Modelo/dataset_nyuv2\\bathroom_0007\n",
      "D:/Ikasketak/UNIR/08_TFM/TFM/Modelo/dataset_nyuv2\\bathroom_0011\n",
      "D:/Ikasketak/UNIR/08_TFM/TFM/Modelo/dataset_nyuv2\\bathroom_0012\n",
      "D:/Ikasketak/UNIR/08_TFM/TFM/Modelo/dataset_nyuv2\\bathroom_0013\n",
      "D:/Ikasketak/UNIR/08_TFM/TFM/Modelo/dataset_nyuv2\\bathroom_0014a\n",
      "D:/Ikasketak/UNIR/08_TFM/TFM/Modelo/dataset_nyuv2\\bathroom_0014b\n",
      "D:/Ikasketak/UNIR/08_TFM/TFM/Modelo/dataset_nyuv2\\bathroom_0015\n",
      "D:/Ikasketak/UNIR/08_TFM/TFM/Modelo/dataset_nyuv2\\bedroom_0001\n",
      "D:/Ikasketak/UNIR/08_TFM/TFM/Modelo/dataset_nyuv2\\bedroom_0003\n",
      "D:/Ikasketak/UNIR/08_TFM/TFM/Modelo/dataset_nyuv2\\bedroom_0004\n",
      "D:/Ikasketak/UNIR/08_TFM/TFM/Modelo/dataset_nyuv2\\bedroom_0005\n",
      "D:/Ikasketak/UNIR/08_TFM/TFM/Modelo/dataset_nyuv2\\bedroom_0006\n",
      "D:/Ikasketak/UNIR/08_TFM/TFM/Modelo/dataset_nyuv2\\bedroom_0007\n",
      "D:/Ikasketak/UNIR/08_TFM/TFM/Modelo/dataset_nyuv2\\bedroom_0008\n",
      "D:/Ikasketak/UNIR/08_TFM/TFM/Modelo/dataset_nyuv2\\bedroom_0009\n",
      "D:/Ikasketak/UNIR/08_TFM/TFM/Modelo/dataset_nyuv2\\bedroom_0010\n",
      "D:/Ikasketak/UNIR/08_TFM/TFM/Modelo/dataset_nyuv2\\bedroom_0012\n",
      "D:/Ikasketak/UNIR/08_TFM/TFM/Modelo/dataset_nyuv2\\bedroom_0013\n",
      "D:/Ikasketak/UNIR/08_TFM/TFM/Modelo/dataset_nyuv2\\bedroom_0014\n",
      "D:/Ikasketak/UNIR/08_TFM/TFM/Modelo/dataset_nyuv2\\bedroom_0015\n",
      "D:/Ikasketak/UNIR/08_TFM/TFM/Modelo/dataset_nyuv2\\bedroom_0016\n",
      "D:/Ikasketak/UNIR/08_TFM/TFM/Modelo/dataset_nyuv2\\bedroom_0017\n",
      "D:/Ikasketak/UNIR/08_TFM/TFM/Modelo/dataset_nyuv2\\bedroom_0018a\n",
      "D:/Ikasketak/UNIR/08_TFM/TFM/Modelo/dataset_nyuv2\\bedroom_0018b\n",
      "D:/Ikasketak/UNIR/08_TFM/TFM/Modelo/dataset_nyuv2\\bedroom_0019\n",
      "D:/Ikasketak/UNIR/08_TFM/TFM/Modelo/dataset_nyuv2\\bedroom_0020\n",
      "D:/Ikasketak/UNIR/08_TFM/TFM/Modelo/dataset_nyuv2\\bookstore_0001a\n",
      "D:/Ikasketak/UNIR/08_TFM/TFM/Modelo/dataset_nyuv2\\bookstore_0001b\n",
      "D:/Ikasketak/UNIR/08_TFM/TFM/Modelo/dataset_nyuv2\\bookstore_0001c\n",
      "D:/Ikasketak/UNIR/08_TFM/TFM/Modelo/dataset_nyuv2\\bookstore_0001d\n",
      "D:/Ikasketak/UNIR/08_TFM/TFM/Modelo/dataset_nyuv2\\cafe_0001a\n",
      "D:/Ikasketak/UNIR/08_TFM/TFM/Modelo/dataset_nyuv2\\cafe_0001b\n",
      "D:/Ikasketak/UNIR/08_TFM/TFM/Modelo/dataset_nyuv2\\cafe_0001c\n",
      "D:/Ikasketak/UNIR/08_TFM/TFM/Modelo/dataset_nyuv2\\computer_lab_0001\n",
      "D:/Ikasketak/UNIR/08_TFM/TFM/Modelo/dataset_nyuv2\\conference_room_0001\n",
      "D:/Ikasketak/UNIR/08_TFM/TFM/Modelo/dataset_nyuv2\\dentist_office_0001\n",
      "D:/Ikasketak/UNIR/08_TFM/TFM/Modelo/dataset_nyuv2\\dentist_office_0002\n",
      "D:/Ikasketak/UNIR/08_TFM/TFM/Modelo/dataset_nyuv2\\dinette_0001\n",
      "D:/Ikasketak/UNIR/08_TFM/TFM/Modelo/dataset_nyuv2\\dining_room_0001a\n",
      "D:/Ikasketak/UNIR/08_TFM/TFM/Modelo/dataset_nyuv2\\dining_room_0001b\n",
      "D:/Ikasketak/UNIR/08_TFM/TFM/Modelo/dataset_nyuv2\\dining_room_0002\n",
      "D:/Ikasketak/UNIR/08_TFM/TFM/Modelo/dataset_nyuv2\\dining_room_0003\n",
      "D:/Ikasketak/UNIR/08_TFM/TFM/Modelo/dataset_nyuv2\\dining_room_0004\n",
      "D:/Ikasketak/UNIR/08_TFM/TFM/Modelo/dataset_nyuv2\\dining_room_0005\n",
      "D:/Ikasketak/UNIR/08_TFM/TFM/Modelo/dataset_nyuv2\\dining_room_0006\n",
      "D:/Ikasketak/UNIR/08_TFM/TFM/Modelo/dataset_nyuv2\\dining_room_0007\n",
      "D:/Ikasketak/UNIR/08_TFM/TFM/Modelo/dataset_nyuv2\\dining_room_0008\n",
      "D:/Ikasketak/UNIR/08_TFM/TFM/Modelo/dataset_nyuv2\\dining_room_0010\n",
      "D:/Ikasketak/UNIR/08_TFM/TFM/Modelo/dataset_nyuv2\\dining_room_0011\n",
      "D:/Ikasketak/UNIR/08_TFM/TFM/Modelo/dataset_nyuv2\\dining_room_0012\n",
      "D:/Ikasketak/UNIR/08_TFM/TFM/Modelo/dataset_nyuv2\\dining_room_0013\n",
      "D:/Ikasketak/UNIR/08_TFM/TFM/Modelo/dataset_nyuv2\\dining_room_0014\n",
      "D:/Ikasketak/UNIR/08_TFM/TFM/Modelo/dataset_nyuv2\\dining_room_0015\n",
      "D:/Ikasketak/UNIR/08_TFM/TFM/Modelo/dataset_nyuv2\\dining_room_0016\n",
      "D:/Ikasketak/UNIR/08_TFM/TFM/Modelo/dataset_nyuv2\\dining_room_0017\n",
      "D:/Ikasketak/UNIR/08_TFM/TFM/Modelo/dataset_nyuv2\\dining_room_0018\n",
      "D:/Ikasketak/UNIR/08_TFM/TFM/Modelo/dataset_nyuv2\\dining_room_0019\n",
      "D:/Ikasketak/UNIR/08_TFM/TFM/Modelo/dataset_nyuv2\\excercise_room_0001\n",
      "D:/Ikasketak/UNIR/08_TFM/TFM/Modelo/dataset_nyuv2\\foyer_0001\n",
      "D:/Ikasketak/UNIR/08_TFM/TFM/Modelo/dataset_nyuv2\\foyer_0002\n",
      "D:/Ikasketak/UNIR/08_TFM/TFM/Modelo/dataset_nyuv2\\furniture_store_0001a\n",
      "D:/Ikasketak/UNIR/08_TFM/TFM/Modelo/dataset_nyuv2\\furniture_store_0001b\n",
      "D:/Ikasketak/UNIR/08_TFM/TFM/Modelo/dataset_nyuv2\\furniture_store_0001c\n",
      "D:/Ikasketak/UNIR/08_TFM/TFM/Modelo/dataset_nyuv2\\furniture_store_0001d\n",
      "D:/Ikasketak/UNIR/08_TFM/TFM/Modelo/dataset_nyuv2\\furniture_store_0001e\n",
      "D:/Ikasketak/UNIR/08_TFM/TFM/Modelo/dataset_nyuv2\\furniture_store_0001f\n",
      "D:/Ikasketak/UNIR/08_TFM/TFM/Modelo/dataset_nyuv2\\furniture_store_0001g\n",
      "D:/Ikasketak/UNIR/08_TFM/TFM/Modelo/dataset_nyuv2\\furniture_store_0002a\n",
      "D:/Ikasketak/UNIR/08_TFM/TFM/Modelo/dataset_nyuv2\\furniture_store_0002b\n",
      "D:/Ikasketak/UNIR/08_TFM/TFM/Modelo/dataset_nyuv2\\furniture_store_0002c\n",
      "D:/Ikasketak/UNIR/08_TFM/TFM/Modelo/dataset_nyuv2\\furniture_store_0002d\n",
      "D:/Ikasketak/UNIR/08_TFM/TFM/Modelo/dataset_nyuv2\\home_office_0001\n",
      "D:/Ikasketak/UNIR/08_TFM/TFM/Modelo/dataset_nyuv2\\home_office_0002\n",
      "D:/Ikasketak/UNIR/08_TFM/TFM/Modelo/dataset_nyuv2\\home_office_0003\n",
      "D:/Ikasketak/UNIR/08_TFM/TFM/Modelo/dataset_nyuv2\\home_office_0004\n",
      "D:/Ikasketak/UNIR/08_TFM/TFM/Modelo/dataset_nyuv2\\home_office_0005\n",
      "D:/Ikasketak/UNIR/08_TFM/TFM/Modelo/dataset_nyuv2\\home_office_0006\n",
      "D:/Ikasketak/UNIR/08_TFM/TFM/Modelo/dataset_nyuv2\\home_office_0007\n",
      "D:/Ikasketak/UNIR/08_TFM/TFM/Modelo/dataset_nyuv2\\home_office_0008\n",
      "D:/Ikasketak/UNIR/08_TFM/TFM/Modelo/dataset_nyuv2\\home_office_0009\n",
      "D:/Ikasketak/UNIR/08_TFM/TFM/Modelo/dataset_nyuv2\\home_office_0010\n",
      "D:/Ikasketak/UNIR/08_TFM/TFM/Modelo/dataset_nyuv2\\home_office_0011\n",
      "D:/Ikasketak/UNIR/08_TFM/TFM/Modelo/dataset_nyuv2\\home_office_0012\n",
      "D:/Ikasketak/UNIR/08_TFM/TFM/Modelo/dataset_nyuv2\\home_office_0013\n",
      "D:/Ikasketak/UNIR/08_TFM/TFM/Modelo/dataset_nyuv2\\home_office_0014\n",
      "D:/Ikasketak/UNIR/08_TFM/TFM/Modelo/dataset_nyuv2\\kitchen_0001a\n",
      "D:/Ikasketak/UNIR/08_TFM/TFM/Modelo/dataset_nyuv2\\kitchen_0001b\n",
      "D:/Ikasketak/UNIR/08_TFM/TFM/Modelo/dataset_nyuv2\\kitchen_0001c\n",
      "D:/Ikasketak/UNIR/08_TFM/TFM/Modelo/dataset_nyuv2\\kitchen_0002\n",
      "D:/Ikasketak/UNIR/08_TFM/TFM/Modelo/dataset_nyuv2\\kitchen_0003\n",
      "D:/Ikasketak/UNIR/08_TFM/TFM/Modelo/dataset_nyuv2\\kitchen_0004\n",
      "D:/Ikasketak/UNIR/08_TFM/TFM/Modelo/dataset_nyuv2\\kitchen_0005\n",
      "D:/Ikasketak/UNIR/08_TFM/TFM/Modelo/dataset_nyuv2\\kitchen_0006\n",
      "D:/Ikasketak/UNIR/08_TFM/TFM/Modelo/dataset_nyuv2\\kitchen_0007\n",
      "D:/Ikasketak/UNIR/08_TFM/TFM/Modelo/dataset_nyuv2\\kitchen_0008\n",
      "D:/Ikasketak/UNIR/08_TFM/TFM/Modelo/dataset_nyuv2\\kitchen_0009\n",
      "D:/Ikasketak/UNIR/08_TFM/TFM/Modelo/dataset_nyuv2\\kitchen_0010\n",
      "D:/Ikasketak/UNIR/08_TFM/TFM/Modelo/dataset_nyuv2\\kitchen_0011a\n",
      "D:/Ikasketak/UNIR/08_TFM/TFM/Modelo/dataset_nyuv2\\kitchen_0011b\n",
      "D:/Ikasketak/UNIR/08_TFM/TFM/Modelo/dataset_nyuv2\\kitchen_0013\n",
      "D:/Ikasketak/UNIR/08_TFM/TFM/Modelo/dataset_nyuv2\\kitchen_0014\n",
      "D:/Ikasketak/UNIR/08_TFM/TFM/Modelo/dataset_nyuv2\\kitchen_0015\n",
      "D:/Ikasketak/UNIR/08_TFM/TFM/Modelo/dataset_nyuv2\\kitchen_0016\n",
      "D:/Ikasketak/UNIR/08_TFM/TFM/Modelo/dataset_nyuv2\\kitchen_0017\n",
      "D:/Ikasketak/UNIR/08_TFM/TFM/Modelo/dataset_nyuv2\\kitchen_0018a\n",
      "D:/Ikasketak/UNIR/08_TFM/TFM/Modelo/dataset_nyuv2\\kitchen_0018b\n",
      "D:/Ikasketak/UNIR/08_TFM/TFM/Modelo/dataset_nyuv2\\kitchen_0018c\n",
      "D:/Ikasketak/UNIR/08_TFM/TFM/Modelo/dataset_nyuv2\\kitchen_0019a\n",
      "D:/Ikasketak/UNIR/08_TFM/TFM/Modelo/dataset_nyuv2\\kitchen_0019b\n",
      "D:/Ikasketak/UNIR/08_TFM/TFM/Modelo/dataset_nyuv2\\library_0001a\n",
      "D:/Ikasketak/UNIR/08_TFM/TFM/Modelo/dataset_nyuv2\\library_0001b\n",
      "D:/Ikasketak/UNIR/08_TFM/TFM/Modelo/dataset_nyuv2\\library_0002a\n",
      "D:/Ikasketak/UNIR/08_TFM/TFM/Modelo/dataset_nyuv2\\library_0002b\n",
      "D:/Ikasketak/UNIR/08_TFM/TFM/Modelo/dataset_nyuv2\\library_0003\n",
      "D:/Ikasketak/UNIR/08_TFM/TFM/Modelo/dataset_nyuv2\\library_0004\n",
      "D:/Ikasketak/UNIR/08_TFM/TFM/Modelo/dataset_nyuv2\\library_0005\n",
      "D:/Ikasketak/UNIR/08_TFM/TFM/Modelo/dataset_nyuv2\\library_0006\n",
      "D:/Ikasketak/UNIR/08_TFM/TFM/Modelo/dataset_nyuv2\\library_0007\n",
      "D:/Ikasketak/UNIR/08_TFM/TFM/Modelo/dataset_nyuv2\\library_0008\n"
     ]
    },
    {
     "name": "stdout",
     "output_type": "stream",
     "text": [
      "D:/Ikasketak/UNIR/08_TFM/TFM/Modelo/dataset_nyuv2\\living_room_0001b\n",
      "D:/Ikasketak/UNIR/08_TFM/TFM/Modelo/dataset_nyuv2\\living_room_0001c\n",
      "D:/Ikasketak/UNIR/08_TFM/TFM/Modelo/dataset_nyuv2\\living_room_0002\n",
      "D:/Ikasketak/UNIR/08_TFM/TFM/Modelo/dataset_nyuv2\\living_room_0003\n",
      "D:/Ikasketak/UNIR/08_TFM/TFM/Modelo/dataset_nyuv2\\living_room_0004\n",
      "D:/Ikasketak/UNIR/08_TFM/TFM/Modelo/dataset_nyuv2\\living_room_0005\n",
      "D:/Ikasketak/UNIR/08_TFM/TFM/Modelo/dataset_nyuv2\\living_room_0006\n",
      "D:/Ikasketak/UNIR/08_TFM/TFM/Modelo/dataset_nyuv2\\living_room_0007\n",
      "D:/Ikasketak/UNIR/08_TFM/TFM/Modelo/dataset_nyuv2\\living_room_0008\n",
      "D:/Ikasketak/UNIR/08_TFM/TFM/Modelo/dataset_nyuv2\\living_room_0009\n",
      "D:/Ikasketak/UNIR/08_TFM/TFM/Modelo/dataset_nyuv2\\living_room_0010\n",
      "D:/Ikasketak/UNIR/08_TFM/TFM/Modelo/dataset_nyuv2\\living_room_0011\n",
      "D:/Ikasketak/UNIR/08_TFM/TFM/Modelo/dataset_nyuv2\\living_room_0012\n",
      "D:/Ikasketak/UNIR/08_TFM/TFM/Modelo/dataset_nyuv2\\living_room_0013\n",
      "D:/Ikasketak/UNIR/08_TFM/TFM/Modelo/dataset_nyuv2\\living_room_0014\n",
      "D:/Ikasketak/UNIR/08_TFM/TFM/Modelo/dataset_nyuv2\\living_room_0015a\n",
      "D:/Ikasketak/UNIR/08_TFM/TFM/Modelo/dataset_nyuv2\\living_room_0015b\n",
      "D:/Ikasketak/UNIR/08_TFM/TFM/Modelo/dataset_nyuv2\\living_room_0016\n",
      "D:/Ikasketak/UNIR/08_TFM/TFM/Modelo/dataset_nyuv2\\nyu_office_0\n",
      "D:/Ikasketak/UNIR/08_TFM/TFM/Modelo/dataset_nyuv2\\nyu_office_1\n",
      "D:/Ikasketak/UNIR/08_TFM/TFM/Modelo/dataset_nyuv2\\office_0001a\n",
      "D:/Ikasketak/UNIR/08_TFM/TFM/Modelo/dataset_nyuv2\\office_0001b\n",
      "D:/Ikasketak/UNIR/08_TFM/TFM/Modelo/dataset_nyuv2\\office_0001c\n",
      "D:/Ikasketak/UNIR/08_TFM/TFM/Modelo/dataset_nyuv2\\office_0002a\n",
      "D:/Ikasketak/UNIR/08_TFM/TFM/Modelo/dataset_nyuv2\\office_0002b\n",
      "D:/Ikasketak/UNIR/08_TFM/TFM/Modelo/dataset_nyuv2\\office_0002c\n",
      "D:/Ikasketak/UNIR/08_TFM/TFM/Modelo/dataset_nyuv2\\office_0003\n",
      "D:/Ikasketak/UNIR/08_TFM/TFM/Modelo/dataset_nyuv2\\office_0004\n",
      "D:/Ikasketak/UNIR/08_TFM/TFM/Modelo/dataset_nyuv2\\office_0005\n",
      "D:/Ikasketak/UNIR/08_TFM/TFM/Modelo/dataset_nyuv2\\office_0006\n",
      "D:/Ikasketak/UNIR/08_TFM/TFM/Modelo/dataset_nyuv2\\office_0007\n",
      "D:/Ikasketak/UNIR/08_TFM/TFM/Modelo/dataset_nyuv2\\office_0008\n",
      "D:/Ikasketak/UNIR/08_TFM/TFM/Modelo/dataset_nyuv2\\office_0009\n",
      "D:/Ikasketak/UNIR/08_TFM/TFM/Modelo/dataset_nyuv2\\office_0010\n",
      "D:/Ikasketak/UNIR/08_TFM/TFM/Modelo/dataset_nyuv2\\office_0011\n",
      "D:/Ikasketak/UNIR/08_TFM/TFM/Modelo/dataset_nyuv2\\office_0012\n",
      "D:/Ikasketak/UNIR/08_TFM/TFM/Modelo/dataset_nyuv2\\office_0013\n",
      "D:/Ikasketak/UNIR/08_TFM/TFM/Modelo/dataset_nyuv2\\office_0014\n",
      "D:/Ikasketak/UNIR/08_TFM/TFM/Modelo/dataset_nyuv2\\office_kitchen_0001a\n",
      "D:/Ikasketak/UNIR/08_TFM/TFM/Modelo/dataset_nyuv2\\office_kitchen_0001b\n",
      "D:/Ikasketak/UNIR/08_TFM/TFM/Modelo/dataset_nyuv2\\office_kitchen_0002\n",
      "D:/Ikasketak/UNIR/08_TFM/TFM/Modelo/dataset_nyuv2\\office_kitchen_0003\n",
      "D:/Ikasketak/UNIR/08_TFM/TFM/Modelo/dataset_nyuv2\\playroom_0002\n",
      "D:/Ikasketak/UNIR/08_TFM/TFM/Modelo/dataset_nyuv2\\playroom_0003\n",
      "D:/Ikasketak/UNIR/08_TFM/TFM/Modelo/dataset_nyuv2\\playroom_0004\n",
      "D:/Ikasketak/UNIR/08_TFM/TFM/Modelo/dataset_nyuv2\\playroom_0005\n",
      "D:/Ikasketak/UNIR/08_TFM/TFM/Modelo/dataset_nyuv2\\playroom_0006\n",
      "D:/Ikasketak/UNIR/08_TFM/TFM/Modelo/dataset_nyuv2\\playroom_0007\n",
      "D:/Ikasketak/UNIR/08_TFM/TFM/Modelo/dataset_nyuv2\\playroom_0008\n",
      "D:/Ikasketak/UNIR/08_TFM/TFM/Modelo/dataset_nyuv2\\reception_room_0001a\n",
      "D:/Ikasketak/UNIR/08_TFM/TFM/Modelo/dataset_nyuv2\\reception_room_0001b\n",
      "D:/Ikasketak/UNIR/08_TFM/TFM/Modelo/dataset_nyuv2\\reception_room_0002\n",
      "D:/Ikasketak/UNIR/08_TFM/TFM/Modelo/dataset_nyuv2\\reception_room_0003\n",
      "D:/Ikasketak/UNIR/08_TFM/TFM/Modelo/dataset_nyuv2\\reception_room_0004\n",
      "D:/Ikasketak/UNIR/08_TFM/TFM/Modelo/dataset_nyuv2\\study_0001a\n",
      "D:/Ikasketak/UNIR/08_TFM/TFM/Modelo/dataset_nyuv2\\study_0001b\n",
      "D:/Ikasketak/UNIR/08_TFM/TFM/Modelo/dataset_nyuv2\\study_0002\n",
      "D:/Ikasketak/UNIR/08_TFM/TFM/Modelo/dataset_nyuv2\\study_0003\n",
      "D:/Ikasketak/UNIR/08_TFM/TFM/Modelo/dataset_nyuv2\\study_0004\n",
      "D:/Ikasketak/UNIR/08_TFM/TFM/Modelo/dataset_nyuv2\\study_0005\n",
      "D:/Ikasketak/UNIR/08_TFM/TFM/Modelo/dataset_nyuv2\\study_0006\n",
      "D:/Ikasketak/UNIR/08_TFM/TFM/Modelo/dataset_nyuv2\\study_0007\n",
      "D:/Ikasketak/UNIR/08_TFM/TFM/Modelo/dataset_nyuv2\\study_0008\n",
      "D:/Ikasketak/UNIR/08_TFM/TFM/Modelo/dataset_nyuv2\\study_room_0001\n",
      "D:/Ikasketak/UNIR/08_TFM/TFM/Modelo/dataset_nyuv2\\study_room_0002\n",
      "D:/Ikasketak/UNIR/08_TFM/TFM/Modelo/dataset_nyuv2\\study_room_0003\n",
      "D:/Ikasketak/UNIR/08_TFM/TFM/Modelo/dataset_nyuv2\\study_room_0004\n",
      "D:/Ikasketak/UNIR/08_TFM/TFM/Modelo/dataset_nyuv2\\study_room_0005a\n",
      "D:/Ikasketak/UNIR/08_TFM/TFM/Modelo/dataset_nyuv2\\study_room_0005b\n",
      "D:/Ikasketak/UNIR/08_TFM/TFM/Modelo/dataset_nyuv2\\study_room_0006\n",
      "D:/Ikasketak/UNIR/08_TFM/TFM/Modelo/dataset_nyuv2\\study_room_0007\n"
     ]
    }
   ],
   "source": [
    "import os\n",
    "import cv2\n",
    "import numpy as np\n",
    "import matplotlib.pyplot as plt\n",
    "\n",
    "\n",
    "directorio = 'D:/Ikasketak/UNIR/08_TFM/TFM/Modelo/dataset_nyuv2'\n",
    "\n",
    "rgb_list = []\n",
    "dep_list = []\n",
    "imsize = (128,96)\n",
    "\n",
    "\n",
    "# Mirar todos los archivos del directorio\n",
    "for archivo in os.listdir(directorio):\n",
    "    cont = 0 \n",
    "    lim = 17\n",
    "    d = []\n",
    "    r = []\n",
    "    # Si es carpeta\n",
    "    if os.path.isdir(os.path.join(directorio, archivo)):\n",
    "        print(os.path.join(directorio, archivo))\n",
    "        n_dir = os.path.join(directorio, archivo)\n",
    "        \n",
    "        # Si es\n",
    "        for archivo in os.listdir(n_dir):\n",
    "            if archivo.split('-')[0] != 'a':\n",
    "                path = os.path.join(n_dir, archivo).replace('\\\\','/')\n",
    "                \n",
    "                try:\n",
    "                    if path.split('/')[-1].split('-')[0] == 'r' and cont < lim*2:\n",
    "#                         r.append(cv2.resize(cv2.cvtColor(cv2.imread(path),cv2.COLOR_BGR2RGB), dsize=imsize))\n",
    "                        r.append(cv2.cvtColor(cv2.imread(path),cv2.COLOR_BGR2RGB))\n",
    "                        cont += 1\n",
    "                        \n",
    "                    if path.split('/')[-1].split('-')[0] == 'd' and cont < lim:\n",
    "#                         d.append(cv2.resize(cv2.cv2.imread(path), dsize=imsize))\n",
    "                        cont += 1\n",
    "                        \n",
    "                except Exception as e:\n",
    "                    print(e)\n",
    "                    print(path)\n",
    "                    \n",
    "        for i in range(16,len(r)):\n",
    "            rgb_list.append(r[i-16:i])\n",
    "            dep_list.append(d[i-16:i])\n",
    "    \n",
    "rgb_list = np.asarray(rgb_list)"
   ]
  },
  {
   "cell_type": "code",
   "execution_count": 16,
   "id": "ecab17a0",
   "metadata": {},
   "outputs": [],
   "source": [
    "np.save('LSTM_seg', rgb_list, allow_pickle=False, fix_imports=False)"
   ]
  },
  {
   "cell_type": "code",
   "execution_count": 5,
   "id": "26c1b264",
   "metadata": {},
   "outputs": [],
   "source": [
    "del rgb_list\n",
    "dep_list = np.asarray(dep_list)"
   ]
  },
  {
   "cell_type": "code",
   "execution_count": 6,
   "id": "b5384bf3",
   "metadata": {},
   "outputs": [
    {
     "ename": "NameError",
     "evalue": "name 'dep_list' is not defined",
     "output_type": "error",
     "traceback": [
      "\u001b[1;31m---------------------------------------------------------------------------\u001b[0m",
      "\u001b[1;31mNameError\u001b[0m                                 Traceback (most recent call last)",
      "\u001b[1;32m~\\AppData\\Local\\Temp/ipykernel_8096/891853822.py\u001b[0m in \u001b[0;36m<module>\u001b[1;34m\u001b[0m\n\u001b[1;32m----> 1\u001b[1;33m \u001b[0mnp\u001b[0m\u001b[1;33m.\u001b[0m\u001b[0msave\u001b[0m\u001b[1;33m(\u001b[0m\u001b[1;34m'LSTM_seg'\u001b[0m\u001b[1;33m,\u001b[0m \u001b[0mdep_list\u001b[0m\u001b[1;33m,\u001b[0m \u001b[0mallow_pickle\u001b[0m\u001b[1;33m=\u001b[0m\u001b[1;32mFalse\u001b[0m\u001b[1;33m,\u001b[0m \u001b[0mfix_imports\u001b[0m\u001b[1;33m=\u001b[0m\u001b[1;32mFalse\u001b[0m\u001b[1;33m)\u001b[0m\u001b[1;33m\u001b[0m\u001b[1;33m\u001b[0m\u001b[0m\n\u001b[0m",
      "\u001b[1;31mNameError\u001b[0m: name 'dep_list' is not defined"
     ]
    }
   ],
   "source": [
    "\n",
    "np.save('LSTM_seg', dep_list, allow_pickle=False, fix_imports=False)"
   ]
  },
  {
   "cell_type": "code",
   "execution_count": 1,
   "id": "19e26aa4",
   "metadata": {},
   "outputs": [],
   "source": [
    "import pixellib\n",
    "import os\n",
    "from pixellib.semantic import semantic_segmentation\n",
    "\n",
    "segment_image = semantic_segmentation()\n",
    "segment_image.load_ade20k_model(\"deeplabv3_xception65_ade20k.h5\")"
   ]
  },
  {
   "cell_type": "code",
   "execution_count": 2,
   "id": "a60c4013",
   "metadata": {},
   "outputs": [
    {
     "data": {
      "text/plain": [
       "(194, 16, 480, 640, 3)"
      ]
     },
     "execution_count": 2,
     "metadata": {},
     "output_type": "execute_result"
    }
   ],
   "source": [
    "import numpy as np\n",
    "x1 = np.load('LSTM_seg.npy')\n",
    "x1.shape"
   ]
  },
  {
   "cell_type": "code",
   "execution_count": 2,
   "id": "38fac964",
   "metadata": {},
   "outputs": [
    {
     "name": "stdout",
     "output_type": "stream",
     "text": [
      "2.2.0\n",
      "[]\n"
     ]
    }
   ],
   "source": [
    "import tensorflow as tf\n",
    "print(tf.__version__)\n",
    "physical_devices = tf.config.experimental.list_physical_devices('GPU')\n",
    "print(physical_devices)\n",
    "if len(physical_devices) > 0:\n",
    "    tf.config.experimental.set_memory_growth(physical_devices[0], True)"
   ]
  },
  {
   "cell_type": "code",
   "execution_count": 2,
   "id": "c6fa4b17",
   "metadata": {},
   "outputs": [
    {
     "ename": "ImportError",
     "evalue": "cannot import name 'get_config' from 'tensorflow.python.eager.context' (C:\\Users\\mikel\\AppData\\Roaming\\Python\\Python38\\site-packages\\tensorflow\\python\\eager\\context.py)",
     "output_type": "error",
     "traceback": [
      "\u001b[1;31m---------------------------------------------------------------------------\u001b[0m",
      "\u001b[1;31mImportError\u001b[0m                               Traceback (most recent call last)",
      "\u001b[1;32m~\\AppData\\Local\\Temp/ipykernel_11704/908182321.py\u001b[0m in \u001b[0;36m<module>\u001b[1;34m\u001b[0m\n\u001b[0;32m      3\u001b[0m \u001b[1;32mimport\u001b[0m \u001b[0mcv2\u001b[0m\u001b[1;33m\u001b[0m\u001b[1;33m\u001b[0m\u001b[0m\n\u001b[0;32m      4\u001b[0m \u001b[1;32mfrom\u001b[0m \u001b[0mskimage\u001b[0m \u001b[1;32mimport\u001b[0m \u001b[0mtransform\u001b[0m\u001b[1;33m\u001b[0m\u001b[1;33m\u001b[0m\u001b[0m\n\u001b[1;32m----> 5\u001b[1;33m \u001b[1;32mfrom\u001b[0m \u001b[0mkeras\u001b[0m\u001b[1;33m.\u001b[0m\u001b[0mpreprocessing\u001b[0m\u001b[1;33m.\u001b[0m\u001b[0mimage\u001b[0m \u001b[1;32mimport\u001b[0m \u001b[0mimg_to_array\u001b[0m\u001b[1;33m\u001b[0m\u001b[1;33m\u001b[0m\u001b[0m\n\u001b[0m\u001b[0;32m      6\u001b[0m \u001b[1;32mimport\u001b[0m \u001b[0mtensorflow\u001b[0m \u001b[1;32mas\u001b[0m \u001b[0mtf\u001b[0m\u001b[1;33m\u001b[0m\u001b[1;33m\u001b[0m\u001b[0m\n\u001b[0;32m      7\u001b[0m \u001b[1;32mimport\u001b[0m \u001b[0mshutil\u001b[0m\u001b[1;33m\u001b[0m\u001b[1;33m\u001b[0m\u001b[0m\n",
      "\u001b[1;32m~\\Anaconda3\\envs\\segmentation\\lib\\site-packages\\keras\\__init__.py\u001b[0m in \u001b[0;36m<module>\u001b[1;34m\u001b[0m\n\u001b[0;32m     23\u001b[0m \u001b[1;33m\u001b[0m\u001b[0m\n\u001b[0;32m     24\u001b[0m \u001b[1;31m# See b/110718070#comment18 for more details about this import.\u001b[0m\u001b[1;33m\u001b[0m\u001b[1;33m\u001b[0m\u001b[1;33m\u001b[0m\u001b[0m\n\u001b[1;32m---> 25\u001b[1;33m \u001b[1;32mfrom\u001b[0m \u001b[0mkeras\u001b[0m \u001b[1;32mimport\u001b[0m \u001b[0mmodels\u001b[0m\u001b[1;33m\u001b[0m\u001b[1;33m\u001b[0m\u001b[0m\n\u001b[0m\u001b[0;32m     26\u001b[0m \u001b[1;33m\u001b[0m\u001b[0m\n\u001b[0;32m     27\u001b[0m \u001b[1;32mfrom\u001b[0m \u001b[0mkeras\u001b[0m\u001b[1;33m.\u001b[0m\u001b[0mengine\u001b[0m\u001b[1;33m.\u001b[0m\u001b[0minput_layer\u001b[0m \u001b[1;32mimport\u001b[0m \u001b[0mInput\u001b[0m\u001b[1;33m\u001b[0m\u001b[1;33m\u001b[0m\u001b[0m\n",
      "\u001b[1;32m~\\Anaconda3\\envs\\segmentation\\lib\\site-packages\\keras\\models.py\u001b[0m in \u001b[0;36m<module>\u001b[1;34m\u001b[0m\n\u001b[0;32m     17\u001b[0m \u001b[1;33m\u001b[0m\u001b[0m\n\u001b[0;32m     18\u001b[0m \u001b[1;32mimport\u001b[0m \u001b[0mtensorflow\u001b[0m\u001b[1;33m.\u001b[0m\u001b[0mcompat\u001b[0m\u001b[1;33m.\u001b[0m\u001b[0mv2\u001b[0m \u001b[1;32mas\u001b[0m \u001b[0mtf\u001b[0m\u001b[1;33m\u001b[0m\u001b[1;33m\u001b[0m\u001b[0m\n\u001b[1;32m---> 19\u001b[1;33m \u001b[1;32mfrom\u001b[0m \u001b[0mkeras\u001b[0m \u001b[1;32mimport\u001b[0m \u001b[0mbackend\u001b[0m\u001b[1;33m\u001b[0m\u001b[1;33m\u001b[0m\u001b[0m\n\u001b[0m\u001b[0;32m     20\u001b[0m \u001b[1;32mfrom\u001b[0m \u001b[0mkeras\u001b[0m \u001b[1;32mimport\u001b[0m \u001b[0mmetrics\u001b[0m \u001b[1;32mas\u001b[0m \u001b[0mmetrics_module\u001b[0m\u001b[1;33m\u001b[0m\u001b[1;33m\u001b[0m\u001b[0m\n\u001b[0;32m     21\u001b[0m \u001b[1;32mfrom\u001b[0m \u001b[0mkeras\u001b[0m \u001b[1;32mimport\u001b[0m \u001b[0moptimizer_v1\u001b[0m\u001b[1;33m\u001b[0m\u001b[1;33m\u001b[0m\u001b[0m\n",
      "\u001b[1;32m~\\Anaconda3\\envs\\segmentation\\lib\\site-packages\\keras\\backend.py\u001b[0m in \u001b[0;36m<module>\u001b[1;34m\u001b[0m\n\u001b[0;32m     34\u001b[0m \u001b[1;32mfrom\u001b[0m \u001b[0mtensorflow\u001b[0m\u001b[1;33m.\u001b[0m\u001b[0mcore\u001b[0m\u001b[1;33m.\u001b[0m\u001b[0mprotobuf\u001b[0m \u001b[1;32mimport\u001b[0m \u001b[0mconfig_pb2\u001b[0m\u001b[1;33m\u001b[0m\u001b[1;33m\u001b[0m\u001b[0m\n\u001b[0;32m     35\u001b[0m \u001b[1;32mfrom\u001b[0m \u001b[0mtensorflow\u001b[0m\u001b[1;33m.\u001b[0m\u001b[0mpython\u001b[0m\u001b[1;33m.\u001b[0m\u001b[0meager\u001b[0m \u001b[1;32mimport\u001b[0m \u001b[0mcontext\u001b[0m\u001b[1;33m\u001b[0m\u001b[1;33m\u001b[0m\u001b[0m\n\u001b[1;32m---> 36\u001b[1;33m \u001b[1;32mfrom\u001b[0m \u001b[0mtensorflow\u001b[0m\u001b[1;33m.\u001b[0m\u001b[0mpython\u001b[0m\u001b[1;33m.\u001b[0m\u001b[0meager\u001b[0m\u001b[1;33m.\u001b[0m\u001b[0mcontext\u001b[0m \u001b[1;32mimport\u001b[0m \u001b[0mget_config\u001b[0m\u001b[1;33m\u001b[0m\u001b[1;33m\u001b[0m\u001b[0m\n\u001b[0m\u001b[0;32m     37\u001b[0m \u001b[1;32mfrom\u001b[0m \u001b[0mtensorflow\u001b[0m\u001b[1;33m.\u001b[0m\u001b[0mpython\u001b[0m\u001b[1;33m.\u001b[0m\u001b[0mframework\u001b[0m \u001b[1;32mimport\u001b[0m \u001b[0mconfig\u001b[0m\u001b[1;33m\u001b[0m\u001b[1;33m\u001b[0m\u001b[0m\n\u001b[0;32m     38\u001b[0m \u001b[1;32mfrom\u001b[0m \u001b[0mkeras\u001b[0m \u001b[1;32mimport\u001b[0m \u001b[0mbackend_config\u001b[0m\u001b[1;33m\u001b[0m\u001b[1;33m\u001b[0m\u001b[0m\n",
      "\u001b[1;31mImportError\u001b[0m: cannot import name 'get_config' from 'tensorflow.python.eager.context' (C:\\Users\\mikel\\AppData\\Roaming\\Python\\Python38\\site-packages\\tensorflow\\python\\eager\\context.py)"
     ]
    }
   ],
   "source": [
    "from PIL import Image\n",
    "import numpy as np\n",
    "import cv2\n",
    "from skimage import transform\n",
    "from keras.preprocessing.image import img_to_array\n",
    "import tensorflow as tf\n",
    "import shutil\n",
    "import os\n",
    "\n",
    "imsize = (128,96)\n",
    "\n",
    "x_train = []\n",
    "for archivo in os.listdir('dataset_sunrgbd/train_rgb'):\n",
    "    img = Image.open(os.path.join('dataset_sunrgbd/train_rgb',archivo))\n",
    "    img = cv2.resize(img_to_array(img), dsize=imsize)\n",
    "    x_train.append(np.asarray(img))\n",
    "# x1_train = np.array(x1_train)\n",
    "# x1_train = x1_train/255.0\n",
    "# print(x1_train.shape)\n",
    "\n",
    "# x1_test = []\n",
    "for archivo in os.listdir('dataset_sunrgbd/test_rgb'):\n",
    "    img = Image.open(os.path.join('dataset_sunrgbd/test_rgb',archivo))\n",
    "    img = cv2.resize(img_to_array(img), dsize=imsize)\n",
    "    x_train.append(np.asarray(img))\n",
    "x_train = np.array(x_train)\n",
    "x_train = x_train/255.0\n",
    "print(x_train.shape)\n",
    "\n",
    "y_train = []\n",
    "for archivo in os.listdir('dataset_sunrgbd/train_label'):\n",
    "    img = np.load(os.path.join('dataset_sunrgbd/train_label',archivo))\n",
    "    img = cv2.resize(img_to_array(img), dsize=imsize)\n",
    "    y_train.append(img)\n",
    "# y_train = np.array(y_train).astype('uint8')\n",
    "# y_train = tf.keras.utils.to_categorical(y_train, dtype='float32')\n",
    "# print(y_train.shape)\n",
    "\n",
    "# y_test = []\n",
    "for archivo in os.listdir('dataset_sunrgbd/test_label'):\n",
    "    img = np.load(os.path.join('dataset_sunrgbd/test_label',archivo))\n",
    "    img = cv2.resize(img_to_array(img), dsize=imsize)\n",
    "    y_train.append(img)\n",
    "y_train = np.array(y_train).astype('uint8')\n",
    "y_train = tf.keras.utils.to_categorical(y_train, dtype='float32')\n",
    "print(y_train.shape)"
   ]
  },
  {
   "cell_type": "code",
   "execution_count": 8,
   "id": "f50ccae9",
   "metadata": {},
   "outputs": [
    {
     "ename": "ImportError",
     "evalue": "cannot import name 'get_config' from 'tensorflow.python.eager.context' (C:\\Users\\mikel\\AppData\\Roaming\\Python\\Python38\\site-packages\\tensorflow\\python\\eager\\context.py)",
     "output_type": "error",
     "traceback": [
      "\u001b[1;31m---------------------------------------------------------------------------\u001b[0m",
      "\u001b[1;31mImportError\u001b[0m                               Traceback (most recent call last)",
      "\u001b[1;32m~\\AppData\\Local\\Temp/ipykernel_2068/2484160205.py\u001b[0m in \u001b[0;36m<module>\u001b[1;34m\u001b[0m\n\u001b[0;32m      6\u001b[0m \u001b[0msm\u001b[0m\u001b[1;33m.\u001b[0m\u001b[0mframework\u001b[0m\u001b[1;33m(\u001b[0m\u001b[1;33m)\u001b[0m\u001b[1;33m\u001b[0m\u001b[1;33m\u001b[0m\u001b[0m\n\u001b[0;32m      7\u001b[0m \u001b[1;33m\u001b[0m\u001b[0m\n\u001b[1;32m----> 8\u001b[1;33m \u001b[1;32mfrom\u001b[0m \u001b[0mkeras_segmentation\u001b[0m \u001b[1;32mimport\u001b[0m \u001b[0mpretrained\u001b[0m\u001b[1;33m\u001b[0m\u001b[1;33m\u001b[0m\u001b[0m\n\u001b[0m\u001b[0;32m      9\u001b[0m \u001b[0mmodel\u001b[0m \u001b[1;33m=\u001b[0m \u001b[0mpspnet_50_ADE_20K\u001b[0m\u001b[1;33m(\u001b[0m\u001b[1;33m)\u001b[0m\u001b[1;33m\u001b[0m\u001b[1;33m\u001b[0m\u001b[0m\n",
      "\u001b[1;32m~\\Anaconda3\\envs\\tf_gpu\\lib\\site-packages\\keras_segmentation\\pretrained.py\u001b[0m in \u001b[0;36m<module>\u001b[1;34m\u001b[0m\n\u001b[1;32m----> 1\u001b[1;33m \u001b[1;32mimport\u001b[0m \u001b[0mkeras\u001b[0m\u001b[1;33m\u001b[0m\u001b[1;33m\u001b[0m\u001b[0m\n\u001b[0m\u001b[0;32m      2\u001b[0m \u001b[1;33m\u001b[0m\u001b[0m\n\u001b[0;32m      3\u001b[0m \u001b[1;32mfrom\u001b[0m \u001b[1;33m.\u001b[0m\u001b[0mmodels\u001b[0m\u001b[1;33m.\u001b[0m\u001b[0mall_models\u001b[0m \u001b[1;32mimport\u001b[0m \u001b[0mmodel_from_name\u001b[0m\u001b[1;33m\u001b[0m\u001b[1;33m\u001b[0m\u001b[0m\n\u001b[0;32m      4\u001b[0m \u001b[1;33m\u001b[0m\u001b[0m\n\u001b[0;32m      5\u001b[0m \u001b[1;33m\u001b[0m\u001b[0m\n",
      "\u001b[1;32m~\\Anaconda3\\envs\\tf_gpu\\lib\\site-packages\\keras\\__init__.py\u001b[0m in \u001b[0;36m<module>\u001b[1;34m\u001b[0m\n\u001b[0;32m     23\u001b[0m \u001b[1;33m\u001b[0m\u001b[0m\n\u001b[0;32m     24\u001b[0m \u001b[1;31m# See b/110718070#comment18 for more details about this import.\u001b[0m\u001b[1;33m\u001b[0m\u001b[1;33m\u001b[0m\u001b[1;33m\u001b[0m\u001b[0m\n\u001b[1;32m---> 25\u001b[1;33m \u001b[1;32mfrom\u001b[0m \u001b[0mkeras\u001b[0m \u001b[1;32mimport\u001b[0m \u001b[0mmodels\u001b[0m\u001b[1;33m\u001b[0m\u001b[1;33m\u001b[0m\u001b[0m\n\u001b[0m\u001b[0;32m     26\u001b[0m \u001b[1;33m\u001b[0m\u001b[0m\n\u001b[0;32m     27\u001b[0m \u001b[1;32mfrom\u001b[0m \u001b[0mkeras\u001b[0m\u001b[1;33m.\u001b[0m\u001b[0mengine\u001b[0m\u001b[1;33m.\u001b[0m\u001b[0minput_layer\u001b[0m \u001b[1;32mimport\u001b[0m \u001b[0mInput\u001b[0m\u001b[1;33m\u001b[0m\u001b[1;33m\u001b[0m\u001b[0m\n",
      "\u001b[1;32m~\\Anaconda3\\envs\\tf_gpu\\lib\\site-packages\\keras\\models.py\u001b[0m in \u001b[0;36m<module>\u001b[1;34m\u001b[0m\n\u001b[0;32m     17\u001b[0m \u001b[1;33m\u001b[0m\u001b[0m\n\u001b[0;32m     18\u001b[0m \u001b[1;32mimport\u001b[0m \u001b[0mtensorflow\u001b[0m\u001b[1;33m.\u001b[0m\u001b[0mcompat\u001b[0m\u001b[1;33m.\u001b[0m\u001b[0mv2\u001b[0m \u001b[1;32mas\u001b[0m \u001b[0mtf\u001b[0m\u001b[1;33m\u001b[0m\u001b[1;33m\u001b[0m\u001b[0m\n\u001b[1;32m---> 19\u001b[1;33m \u001b[1;32mfrom\u001b[0m \u001b[0mkeras\u001b[0m \u001b[1;32mimport\u001b[0m \u001b[0mbackend\u001b[0m\u001b[1;33m\u001b[0m\u001b[1;33m\u001b[0m\u001b[0m\n\u001b[0m\u001b[0;32m     20\u001b[0m \u001b[1;32mfrom\u001b[0m \u001b[0mkeras\u001b[0m \u001b[1;32mimport\u001b[0m \u001b[0mmetrics\u001b[0m \u001b[1;32mas\u001b[0m \u001b[0mmetrics_module\u001b[0m\u001b[1;33m\u001b[0m\u001b[1;33m\u001b[0m\u001b[0m\n\u001b[0;32m     21\u001b[0m \u001b[1;32mfrom\u001b[0m \u001b[0mkeras\u001b[0m \u001b[1;32mimport\u001b[0m \u001b[0moptimizer_v1\u001b[0m\u001b[1;33m\u001b[0m\u001b[1;33m\u001b[0m\u001b[0m\n",
      "\u001b[1;32m~\\Anaconda3\\envs\\tf_gpu\\lib\\site-packages\\keras\\backend.py\u001b[0m in \u001b[0;36m<module>\u001b[1;34m\u001b[0m\n\u001b[0;32m     34\u001b[0m \u001b[1;32mfrom\u001b[0m \u001b[0mtensorflow\u001b[0m\u001b[1;33m.\u001b[0m\u001b[0mcore\u001b[0m\u001b[1;33m.\u001b[0m\u001b[0mprotobuf\u001b[0m \u001b[1;32mimport\u001b[0m \u001b[0mconfig_pb2\u001b[0m\u001b[1;33m\u001b[0m\u001b[1;33m\u001b[0m\u001b[0m\n\u001b[0;32m     35\u001b[0m \u001b[1;32mfrom\u001b[0m \u001b[0mtensorflow\u001b[0m\u001b[1;33m.\u001b[0m\u001b[0mpython\u001b[0m\u001b[1;33m.\u001b[0m\u001b[0meager\u001b[0m \u001b[1;32mimport\u001b[0m \u001b[0mcontext\u001b[0m\u001b[1;33m\u001b[0m\u001b[1;33m\u001b[0m\u001b[0m\n\u001b[1;32m---> 36\u001b[1;33m \u001b[1;32mfrom\u001b[0m \u001b[0mtensorflow\u001b[0m\u001b[1;33m.\u001b[0m\u001b[0mpython\u001b[0m\u001b[1;33m.\u001b[0m\u001b[0meager\u001b[0m\u001b[1;33m.\u001b[0m\u001b[0mcontext\u001b[0m \u001b[1;32mimport\u001b[0m \u001b[0mget_config\u001b[0m\u001b[1;33m\u001b[0m\u001b[1;33m\u001b[0m\u001b[0m\n\u001b[0m\u001b[0;32m     37\u001b[0m \u001b[1;32mfrom\u001b[0m \u001b[0mtensorflow\u001b[0m\u001b[1;33m.\u001b[0m\u001b[0mpython\u001b[0m\u001b[1;33m.\u001b[0m\u001b[0mframework\u001b[0m \u001b[1;32mimport\u001b[0m \u001b[0mconfig\u001b[0m\u001b[1;33m\u001b[0m\u001b[1;33m\u001b[0m\u001b[0m\n\u001b[0;32m     38\u001b[0m \u001b[1;32mfrom\u001b[0m \u001b[0mkeras\u001b[0m \u001b[1;32mimport\u001b[0m \u001b[0mbackend_config\u001b[0m\u001b[1;33m\u001b[0m\u001b[1;33m\u001b[0m\u001b[0m\n",
      "\u001b[1;31mImportError\u001b[0m: cannot import name 'get_config' from 'tensorflow.python.eager.context' (C:\\Users\\mikel\\AppData\\Roaming\\Python\\Python38\\site-packages\\tensorflow\\python\\eager\\context.py)"
     ]
    }
   ],
   "source": [
    "from tensorflow import keras \n",
    "\n",
    "import segmentation_models as sm\n",
    "\n",
    "sm.set_framework('tf.keras')\n",
    "sm.framework()\n",
    "\n",
    "from keras_segmentation import pretrained\n",
    "model = pspnet_50_ADE_20K()"
   ]
  },
  {
   "cell_type": "code",
   "execution_count": null,
   "id": "6092d8e9",
   "metadata": {},
   "outputs": [],
   "source": [
    "## import cv2\n",
    "from PIL import Image\n",
    "import tensorflow as tf\n",
    "import time\n",
    "\n",
    "result = []\n",
    "try:\n",
    "    os.remove(\"im2seg.jpg\")\n",
    "except:\n",
    "    None\n",
    "for i in x1:\n",
    "    segment = []\n",
    "    cont = 0\n",
    "    for j in i:\n",
    "        cont += 1\n",
    "        print(cont)\n",
    "        cv2.imshow('a',j)\n",
    "        time.sleep(10000)\n",
    "        cv2.destroyAllWindows()\n",
    "        cv2.imwrite(\"im2seg.jpg\",j)\n",
    "        segvalues, output = segment_image.segmentAsAde20k(\"im2seg.jpg\")\n",
    "        print(len(np.unique(output)))\n",
    "        print(segvalues['masks'].shape)\n",
    "        print(segvalues['class_ids'].shape)\n",
    "        display(segvalues['masks'])\n",
    "        break\n",
    "        segment.append(img)\n",
    "        os.remove(\"im2seg.jpg\")\n",
    "    result.append(np.asarray(segment))\n",
    "    \n",
    "    print(len(np.unique(result)))\n",
    "    break\n",
    "result = np.asarray(result)"
   ]
  },
  {
   "cell_type": "code",
   "execution_count": 8,
   "id": "512687d4",
   "metadata": {},
   "outputs": [
    {
     "name": "stdout",
     "output_type": "stream",
     "text": [
      "(1, 16, 480, 640, 256)\n"
     ]
    },
    {
     "data": {
      "image/png": "[encoded data removed]",
      "text/plain": [
       "<Figure size 432x288 with 1 Axes>"
      ]
     },
     "metadata": {
      "needs_background": "light"
     },
     "output_type": "display_data"
    }
   ],
   "source": [
    "import matplotlib.pyplot as plt\n",
    "plt.imshow(x1[0][0])\n",
    "plt.imshow(result[0][0])\n",
    "a = tf.keras.utils.to_categorical(result, dtype='float32')\n",
    "print(a.shape)"
   ]
  },
  {
   "cell_type": "code",
   "execution_count": 14,
   "id": "9f86e061",
   "metadata": {},
   "outputs": [
    {
     "ename": "TypeError",
     "evalue": "Invalid shape (480, 640, 256) for image data",
     "output_type": "error",
     "traceback": [
      "\u001b[1;31m---------------------------------------------------------------------------\u001b[0m",
      "\u001b[1;31mTypeError\u001b[0m                                 Traceback (most recent call last)",
      "\u001b[1;32m~\\AppData\\Local\\Temp/ipykernel_12740/656928954.py\u001b[0m in \u001b[0;36m<module>\u001b[1;34m\u001b[0m\n\u001b[0;32m      9\u001b[0m \u001b[1;33m\u001b[0m\u001b[0m\n\u001b[0;32m     10\u001b[0m     \u001b[0max\u001b[0m \u001b[1;33m=\u001b[0m \u001b[0mfig\u001b[0m\u001b[1;33m.\u001b[0m\u001b[0madd_subplot\u001b[0m\u001b[1;33m(\u001b[0m\u001b[1;36m1\u001b[0m\u001b[1;33m,\u001b[0m \u001b[1;36m2\u001b[0m\u001b[1;33m,\u001b[0m \u001b[1;36m2\u001b[0m\u001b[1;33m)\u001b[0m\u001b[1;33m\u001b[0m\u001b[1;33m\u001b[0m\u001b[0m\n\u001b[1;32m---> 11\u001b[1;33m     \u001b[0max\u001b[0m\u001b[1;33m.\u001b[0m\u001b[0mimshow\u001b[0m\u001b[1;33m(\u001b[0m\u001b[0ma\u001b[0m\u001b[1;33m[\u001b[0m\u001b[1;36m0\u001b[0m\u001b[1;33m]\u001b[0m\u001b[1;33m[\u001b[0m\u001b[0mi\u001b[0m\u001b[1;33m]\u001b[0m\u001b[1;33m)\u001b[0m\u001b[1;33m\u001b[0m\u001b[1;33m\u001b[0m\u001b[0m\n\u001b[0m",
      "\u001b[1;32m~\\Anaconda3\\envs\\tf_gpu\\lib\\site-packages\\matplotlib\\__init__.py\u001b[0m in \u001b[0;36minner\u001b[1;34m(ax, data, *args, **kwargs)\u001b[0m\n\u001b[0;32m   1359\u001b[0m     \u001b[1;32mdef\u001b[0m \u001b[0minner\u001b[0m\u001b[1;33m(\u001b[0m\u001b[0max\u001b[0m\u001b[1;33m,\u001b[0m \u001b[1;33m*\u001b[0m\u001b[0margs\u001b[0m\u001b[1;33m,\u001b[0m \u001b[0mdata\u001b[0m\u001b[1;33m=\u001b[0m\u001b[1;32mNone\u001b[0m\u001b[1;33m,\u001b[0m \u001b[1;33m**\u001b[0m\u001b[0mkwargs\u001b[0m\u001b[1;33m)\u001b[0m\u001b[1;33m:\u001b[0m\u001b[1;33m\u001b[0m\u001b[1;33m\u001b[0m\u001b[0m\n\u001b[0;32m   1360\u001b[0m         \u001b[1;32mif\u001b[0m \u001b[0mdata\u001b[0m \u001b[1;32mis\u001b[0m \u001b[1;32mNone\u001b[0m\u001b[1;33m:\u001b[0m\u001b[1;33m\u001b[0m\u001b[1;33m\u001b[0m\u001b[0m\n\u001b[1;32m-> 1361\u001b[1;33m             \u001b[1;32mreturn\u001b[0m \u001b[0mfunc\u001b[0m\u001b[1;33m(\u001b[0m\u001b[0max\u001b[0m\u001b[1;33m,\u001b[0m \u001b[1;33m*\u001b[0m\u001b[0mmap\u001b[0m\u001b[1;33m(\u001b[0m\u001b[0msanitize_sequence\u001b[0m\u001b[1;33m,\u001b[0m \u001b[0margs\u001b[0m\u001b[1;33m)\u001b[0m\u001b[1;33m,\u001b[0m \u001b[1;33m**\u001b[0m\u001b[0mkwargs\u001b[0m\u001b[1;33m)\u001b[0m\u001b[1;33m\u001b[0m\u001b[1;33m\u001b[0m\u001b[0m\n\u001b[0m\u001b[0;32m   1362\u001b[0m \u001b[1;33m\u001b[0m\u001b[0m\n\u001b[0;32m   1363\u001b[0m         \u001b[0mbound\u001b[0m \u001b[1;33m=\u001b[0m \u001b[0mnew_sig\u001b[0m\u001b[1;33m.\u001b[0m\u001b[0mbind\u001b[0m\u001b[1;33m(\u001b[0m\u001b[0max\u001b[0m\u001b[1;33m,\u001b[0m \u001b[1;33m*\u001b[0m\u001b[0margs\u001b[0m\u001b[1;33m,\u001b[0m \u001b[1;33m**\u001b[0m\u001b[0mkwargs\u001b[0m\u001b[1;33m)\u001b[0m\u001b[1;33m\u001b[0m\u001b[1;33m\u001b[0m\u001b[0m\n",
      "\u001b[1;32m~\\Anaconda3\\envs\\tf_gpu\\lib\\site-packages\\matplotlib\\axes\\_axes.py\u001b[0m in \u001b[0;36mimshow\u001b[1;34m(self, X, cmap, norm, aspect, interpolation, alpha, vmin, vmax, origin, extent, filternorm, filterrad, resample, url, **kwargs)\u001b[0m\n\u001b[0;32m   5607\u001b[0m                               resample=resample, **kwargs)\n\u001b[0;32m   5608\u001b[0m \u001b[1;33m\u001b[0m\u001b[0m\n\u001b[1;32m-> 5609\u001b[1;33m         \u001b[0mim\u001b[0m\u001b[1;33m.\u001b[0m\u001b[0mset_data\u001b[0m\u001b[1;33m(\u001b[0m\u001b[0mX\u001b[0m\u001b[1;33m)\u001b[0m\u001b[1;33m\u001b[0m\u001b[1;33m\u001b[0m\u001b[0m\n\u001b[0m\u001b[0;32m   5610\u001b[0m         \u001b[0mim\u001b[0m\u001b[1;33m.\u001b[0m\u001b[0mset_alpha\u001b[0m\u001b[1;33m(\u001b[0m\u001b[0malpha\u001b[0m\u001b[1;33m)\u001b[0m\u001b[1;33m\u001b[0m\u001b[1;33m\u001b[0m\u001b[0m\n\u001b[0;32m   5611\u001b[0m         \u001b[1;32mif\u001b[0m \u001b[0mim\u001b[0m\u001b[1;33m.\u001b[0m\u001b[0mget_clip_path\u001b[0m\u001b[1;33m(\u001b[0m\u001b[1;33m)\u001b[0m \u001b[1;32mis\u001b[0m \u001b[1;32mNone\u001b[0m\u001b[1;33m:\u001b[0m\u001b[1;33m\u001b[0m\u001b[1;33m\u001b[0m\u001b[0m\n",
      "\u001b[1;32m~\\Anaconda3\\envs\\tf_gpu\\lib\\site-packages\\matplotlib\\image.py\u001b[0m in \u001b[0;36mset_data\u001b[1;34m(self, A)\u001b[0m\n\u001b[0;32m    707\u001b[0m         if not (self._A.ndim == 2\n\u001b[0;32m    708\u001b[0m                 or self._A.ndim == 3 and self._A.shape[-1] in [3, 4]):\n\u001b[1;32m--> 709\u001b[1;33m             raise TypeError(\"Invalid shape {} for image data\"\n\u001b[0m\u001b[0;32m    710\u001b[0m                             .format(self._A.shape))\n\u001b[0;32m    711\u001b[0m \u001b[1;33m\u001b[0m\u001b[0m\n",
      "\u001b[1;31mTypeError\u001b[0m: Invalid shape (480, 640, 256) for image data"
     ]
    },
    {
     "data": {
      "image/png": "[encoded data removed]",
      "text/plain": [
       "<Figure size 432x288 with 2 Axes>"
      ]
     },
     "metadata": {
      "needs_background": "light"
     },
     "output_type": "display_data"
    }
   ],
   "source": [
    "import matplotlib.pyplot as plt\n",
    "number = 16\n",
    "\n",
    "for i in range (number):\n",
    "    fig = plt.figure()\n",
    "\n",
    "    ax = fig.add_subplot(1, 2, 1)\n",
    "    ax.imshow(x1[0][i])\n",
    "\n",
    "    ax = fig.add_subplot(1, 2, 2)\n",
    "    ax.imshow(a[0][i])"
   ]
  },
  {
   "cell_type": "code",
   "execution_count": null,
   "id": "156e3777",
   "metadata": {},
   "outputs": [],
   "source": [
    "np.save('LSTM_y', dep_list, allow_pickle=False, fix_imports=False)"
   ]
  }
 ],
 "metadata": {
  "kernelspec": {
   "display_name": "Python 3 (ipykernel)",
   "language": "python",
   "name": "python3"
  },
  "language_info": {
   "codemirror_mode": {
    "name": "ipython",
    "version": 3
   },
   "file_extension": ".py",
   "mimetype": "text/x-python",
   "name": "python",
   "nbconvert_exporter": "python",
   "pygments_lexer": "ipython3",
   "version": "3.8.11"
  }
 },
 "nbformat": 4,
 "nbformat_minor": 5
}
