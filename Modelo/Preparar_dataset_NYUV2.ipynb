{
 "cells": [
  {
   "cell_type": "code",
   "execution_count": 1,
   "source": [
    "import pandas as pd\r\n",
    "\r\n",
    "labels = pd.read_csv('label_names.csv',header=None)\r\n",
    "label_names = {}\r\n",
    "for i in labels[0]:\r\n",
    "    label_names[i.split(';')[0]] = i.split(';')[1].split(\"'\")[1]\r\n",
    "num_classes = len(label_names)\r\n",
    "print(num_classes)"
   ],
   "outputs": [
    {
     "output_type": "stream",
     "name": "stdout",
     "text": [
      "894\n"
     ]
    }
   ],
   "metadata": {}
  },
  {
   "cell_type": "code",
   "execution_count": 2,
   "source": [
    "# Usando los 64 primeros label si no se le pone etiqueta else\r\n",
    "label_use = []\r\n",
    "for i in range(1,32):\r\n",
    "    label_use.append(label_names[str(i)])\r\n",
    "label_use.append('else')\r\n",
    "num_classes = len(label_use)\r\n",
    "print('numero de clases: ' + str(num_classes))\r\n",
    "print('labels:')\r\n",
    "print(label_use)"
   ],
   "outputs": [
    {
     "output_type": "stream",
     "name": "stdout",
     "text": [
      "numero de clases: 32\n",
      "labels:\n",
      "['book', 'bottle', 'cabinet', 'ceiling', 'chair', 'cone', 'counter', 'dishwasher', 'faucet', 'fire\\xa0extinguisher', 'floor', 'garbage\\xa0bin', 'microwave', 'paper\\xa0towel\\xa0dispenser', 'paper', 'pot', 'refridgerator', 'stove\\xa0burner', 'table', 'unknown', 'wall', 'bowl', 'magnet', 'sink', 'air\\xa0vent', 'box', 'door\\xa0knob', 'door', 'scissor', 'tape\\xa0dispenser', 'telephone\\xa0cord', 'else']\n"
     ]
    }
   ],
   "metadata": {}
  },
  {
   "cell_type": "code",
   "execution_count": 3,
   "source": [
    "from PIL import Image\r\n",
    "from pathlib import Path\r\n",
    "from nyuv2 import *\r\n",
    "from toolbox_nyu_depth_v2 import *\r\n",
    "import numpy as np\r\n",
    "import matplotlib.pyplot as plt\r\n",
    "from keras.preprocessing.image import img_to_array\r\n",
    "import cv2\r\n",
    "\r\n",
    "DATASET_DIR = Path('dataset_nyuv2')\r\n",
    "labeled = LabeledDataset(DATASET_DIR / 'nyu_depth_v2_labeled.mat')\r\n",
    "# save_dir = 'segmented'\r\n",
    "# color_dir = save_dir + '/color/'\r\n",
    "# depth_dir = save_dir + '/depth/'\r\n",
    "# label_dir = save_dir + '/label/'\r\n",
    "\r\n",
    "x1 = []\r\n",
    "x2 = []\r\n",
    "y = []\r\n",
    "x_rgb = []\r\n",
    "x_dep = []\r\n",
    "y_res = []\r\n",
    "\r\n",
    "for i in range(1449): # valor maximo 1449\r\n",
    "    color, depth, label = labeled[i]\r\n",
    "\r\n",
    "    # x1.append(cv2.resize(img_to_array(color)/255, dsize=(128,96), interpolation=cv2.INTER_CUBIC))\r\n",
    "    # x2.append(np.resize(cv2.resize(img_to_array(depth)/255, dsize=(128,96), interpolation=cv2.INTER_CUBIC),(96,128,1)))\r\n",
    "    # y.append(np.resize(cv2.resize(img_to_array(label), dsize=(128,96), interpolation=cv2.INTER_CUBIC),(96,128,1)))\r\n",
    "    x_rgb.append(img_to_array(color)/255) \r\n",
    "    x_dep.append(img_to_array(depth)/255)\r\n",
    "    y_res.append(img_to_array(label))\r\n",
    "\r\n",
    "x_rgb = np.array(x_rgb)\r\n",
    "x_dep = np.array(x_dep)\r\n",
    "y_res = np.array(y_res)"
   ],
   "outputs": [],
   "metadata": {}
  },
  {
   "cell_type": "code",
   "execution_count": 4,
   "source": [
    "def maximize_image(imagen, num):\r\n",
    "    img_aux = np.zeros([imagen.shape[0],imagen.shape[1]],dtype=np.uint8)\r\n",
    "    for i in range(imagen.shape[0]):\r\n",
    "        for j in range(imagen.shape[1]):\r\n",
    "            if imagen[i][j] >= num:\r\n",
    "                img_aux[i][j] = num\r\n",
    "                    \r\n",
    "#     plt.imshow(img_aux)\r\n",
    "#     plt.show()\r\n",
    "    return np.array(img_aux)"
   ],
   "outputs": [],
   "metadata": {}
  },
  {
   "cell_type": "code",
   "execution_count": 5,
   "source": [
    "def binaryze_image(imagen, num):\r\n",
    "    img_aux = np.zeros([imagen.shape[0],imagen.shape[1]],dtype=np.uint8)\r\n",
    "    for i in range(imagen.shape[0]):\r\n",
    "        for j in range(imagen.shape[1]):\r\n",
    "            if num < 65:\r\n",
    "                if imagen[i][j] == num:\r\n",
    "                    img_aux[i][j] = 1\r\n",
    "            else:\r\n",
    "                if imagen[i][j] >= num:\r\n",
    "                    img_aux[i][j] = 1\r\n",
    "                    \r\n",
    "#     plt.imshow(img_aux)\r\n",
    "#     plt.show()\r\n",
    "    return np.array(img_aux)"
   ],
   "outputs": [],
   "metadata": {}
  },
  {
   "cell_type": "code",
   "execution_count": 6,
   "source": [
    "# Preparar el resultado en un array\r\n",
    "\r\n",
    "y_res_1 = []\r\n",
    "\r\n",
    "for im in range(len(y_res)):\r\n",
    "    y_res_1.append(list())\r\n",
    "    y_res_1[im].append(np.array(maximize_image(y_res[im],32)))\r\n",
    "y_res_1 = np.array(y_res_1)\r\n",
    "print(y_res_1[0].shape)"
   ],
   "outputs": [
    {
     "output_type": "stream",
     "name": "stdout",
     "text": [
      "(1, 480, 640)\n"
     ]
    }
   ],
   "metadata": {}
  },
  {
   "cell_type": "code",
   "execution_count": 7,
   "source": [
    "print(y_res_1.shape)"
   ],
   "outputs": [
    {
     "output_type": "stream",
     "name": "stdout",
     "text": [
      "(1449, 1, 480, 640)\n"
     ]
    }
   ],
   "metadata": {}
  },
  {
   "cell_type": "code",
   "execution_count": 15,
   "source": [
    "import tensorflow as tf\r\n",
    "\r\n",
    "# Preparar el resultado en diferentes arrays\r\n",
    "y_res_2 = []\r\n",
    "\r\n",
    "for im in range(len(y_res)):\r\n",
    "    y_res_2.append(list())\r\n",
    "    y_res_2[im].append(np.array(tf.keras.utils.to_categorical(np.array(y_res[im]), num_classes=32, dtype='int32')))\r\n",
    "\r\n",
    "y_res_2 = np.array(y_res_2)\r\n",
    "print(y_res_2[0].shape)"
   ],
   "outputs": [
    {
     "output_type": "error",
     "ename": "IndexError",
     "evalue": "index 33 is out of bounds for axis 1 with size 32",
     "traceback": [
      "\u001b[1;31m---------------------------------------------------------------------------\u001b[0m",
      "\u001b[1;31mIndexError\u001b[0m                                Traceback (most recent call last)",
      "\u001b[1;32m<ipython-input-15-cb3df42b128f>\u001b[0m in \u001b[0;36m<module>\u001b[1;34m\u001b[0m\n\u001b[0;32m      6\u001b[0m \u001b[1;32mfor\u001b[0m \u001b[0mim\u001b[0m \u001b[1;32min\u001b[0m \u001b[0mrange\u001b[0m\u001b[1;33m(\u001b[0m\u001b[0mlen\u001b[0m\u001b[1;33m(\u001b[0m\u001b[0my_res\u001b[0m\u001b[1;33m)\u001b[0m\u001b[1;33m)\u001b[0m\u001b[1;33m:\u001b[0m\u001b[1;33m\u001b[0m\u001b[1;33m\u001b[0m\u001b[0m\n\u001b[0;32m      7\u001b[0m     \u001b[0my_res_2\u001b[0m\u001b[1;33m.\u001b[0m\u001b[0mappend\u001b[0m\u001b[1;33m(\u001b[0m\u001b[0mlist\u001b[0m\u001b[1;33m(\u001b[0m\u001b[1;33m)\u001b[0m\u001b[1;33m)\u001b[0m\u001b[1;33m\u001b[0m\u001b[1;33m\u001b[0m\u001b[0m\n\u001b[1;32m----> 8\u001b[1;33m     \u001b[0my_res_2\u001b[0m\u001b[1;33m[\u001b[0m\u001b[0mim\u001b[0m\u001b[1;33m]\u001b[0m\u001b[1;33m.\u001b[0m\u001b[0mappend\u001b[0m\u001b[1;33m(\u001b[0m\u001b[0mnp\u001b[0m\u001b[1;33m.\u001b[0m\u001b[0marray\u001b[0m\u001b[1;33m(\u001b[0m\u001b[0mtf\u001b[0m\u001b[1;33m.\u001b[0m\u001b[0mkeras\u001b[0m\u001b[1;33m.\u001b[0m\u001b[0mutils\u001b[0m\u001b[1;33m.\u001b[0m\u001b[0mto_categorical\u001b[0m\u001b[1;33m(\u001b[0m\u001b[0mnp\u001b[0m\u001b[1;33m.\u001b[0m\u001b[0marray\u001b[0m\u001b[1;33m(\u001b[0m\u001b[0my_res\u001b[0m\u001b[1;33m[\u001b[0m\u001b[0mim\u001b[0m\u001b[1;33m]\u001b[0m\u001b[1;33m)\u001b[0m\u001b[1;33m,\u001b[0m \u001b[0mnum_classes\u001b[0m\u001b[1;33m=\u001b[0m\u001b[1;36m32\u001b[0m\u001b[1;33m,\u001b[0m \u001b[0mdtype\u001b[0m\u001b[1;33m=\u001b[0m\u001b[1;34m'int32'\u001b[0m\u001b[1;33m)\u001b[0m\u001b[1;33m)\u001b[0m\u001b[1;33m)\u001b[0m\u001b[1;33m\u001b[0m\u001b[1;33m\u001b[0m\u001b[0m\n\u001b[0m\u001b[0;32m      9\u001b[0m \u001b[1;33m\u001b[0m\u001b[0m\n\u001b[0;32m     10\u001b[0m \u001b[0my_res_2\u001b[0m \u001b[1;33m=\u001b[0m \u001b[0mnp\u001b[0m\u001b[1;33m.\u001b[0m\u001b[0marray\u001b[0m\u001b[1;33m(\u001b[0m\u001b[0my_res_2\u001b[0m\u001b[1;33m)\u001b[0m\u001b[1;33m\u001b[0m\u001b[1;33m\u001b[0m\u001b[0m\n",
      "\u001b[1;32m~\\AppData\\Roaming\\Python\\Python38\\site-packages\\tensorflow\\python\\keras\\utils\\np_utils.py\u001b[0m in \u001b[0;36mto_categorical\u001b[1;34m(y, num_classes, dtype)\u001b[0m\n\u001b[0;32m     73\u001b[0m   \u001b[0mn\u001b[0m \u001b[1;33m=\u001b[0m \u001b[0my\u001b[0m\u001b[1;33m.\u001b[0m\u001b[0mshape\u001b[0m\u001b[1;33m[\u001b[0m\u001b[1;36m0\u001b[0m\u001b[1;33m]\u001b[0m\u001b[1;33m\u001b[0m\u001b[1;33m\u001b[0m\u001b[0m\n\u001b[0;32m     74\u001b[0m   \u001b[0mcategorical\u001b[0m \u001b[1;33m=\u001b[0m \u001b[0mnp\u001b[0m\u001b[1;33m.\u001b[0m\u001b[0mzeros\u001b[0m\u001b[1;33m(\u001b[0m\u001b[1;33m(\u001b[0m\u001b[0mn\u001b[0m\u001b[1;33m,\u001b[0m \u001b[0mnum_classes\u001b[0m\u001b[1;33m)\u001b[0m\u001b[1;33m,\u001b[0m \u001b[0mdtype\u001b[0m\u001b[1;33m=\u001b[0m\u001b[0mdtype\u001b[0m\u001b[1;33m)\u001b[0m\u001b[1;33m\u001b[0m\u001b[1;33m\u001b[0m\u001b[0m\n\u001b[1;32m---> 75\u001b[1;33m   \u001b[0mcategorical\u001b[0m\u001b[1;33m[\u001b[0m\u001b[0mnp\u001b[0m\u001b[1;33m.\u001b[0m\u001b[0marange\u001b[0m\u001b[1;33m(\u001b[0m\u001b[0mn\u001b[0m\u001b[1;33m)\u001b[0m\u001b[1;33m,\u001b[0m \u001b[0my\u001b[0m\u001b[1;33m]\u001b[0m \u001b[1;33m=\u001b[0m \u001b[1;36m1\u001b[0m\u001b[1;33m\u001b[0m\u001b[1;33m\u001b[0m\u001b[0m\n\u001b[0m\u001b[0;32m     76\u001b[0m   \u001b[0moutput_shape\u001b[0m \u001b[1;33m=\u001b[0m \u001b[0minput_shape\u001b[0m \u001b[1;33m+\u001b[0m \u001b[1;33m(\u001b[0m\u001b[0mnum_classes\u001b[0m\u001b[1;33m,\u001b[0m\u001b[1;33m)\u001b[0m\u001b[1;33m\u001b[0m\u001b[1;33m\u001b[0m\u001b[0m\n\u001b[0;32m     77\u001b[0m   \u001b[0mcategorical\u001b[0m \u001b[1;33m=\u001b[0m \u001b[0mnp\u001b[0m\u001b[1;33m.\u001b[0m\u001b[0mreshape\u001b[0m\u001b[1;33m(\u001b[0m\u001b[0mcategorical\u001b[0m\u001b[1;33m,\u001b[0m \u001b[0moutput_shape\u001b[0m\u001b[1;33m)\u001b[0m\u001b[1;33m\u001b[0m\u001b[1;33m\u001b[0m\u001b[0m\n",
      "\u001b[1;31mIndexError\u001b[0m: index 33 is out of bounds for axis 1 with size 32"
     ]
    }
   ],
   "metadata": {
    "scrolled": true
   }
  },
  {
   "cell_type": "code",
   "execution_count": 9,
   "source": [
    "np.save('dataset_nyuv2/y_prepared_32', y_res_2, allow_pickle=False, fix_imports=False)"
   ],
   "outputs": [],
   "metadata": {}
  },
  {
   "cell_type": "code",
   "execution_count": 10,
   "source": [
    "np.save('dataset_nyuv2/y_32', y_res_1, allow_pickle=False, fix_imports=False)"
   ],
   "outputs": [],
   "metadata": {}
  },
  {
   "cell_type": "code",
   "execution_count": 11,
   "source": [
    "np.save('dataset_nyuv2/x1', x_rgb, allow_pickle=False, fix_imports=False)"
   ],
   "outputs": [],
   "metadata": {}
  },
  {
   "cell_type": "code",
   "execution_count": 12,
   "source": [
    "np.save('dataset_nyuv2/x2', x_dep, allow_pickle=False, fix_imports=False)"
   ],
   "outputs": [],
   "metadata": {}
  },
  {
   "cell_type": "code",
   "execution_count": null,
   "source": [
    "import numpy as np\r\n",
    "\r\n",
    "data_dir = np.load('dataset_nyuv2/y_32')\r\n",
    "\r\n",
    "tf.keras.utils.to_categorical(\r\n",
    "    data_dir, num_classes=32, dtype='int'\r\n",
    ")"
   ],
   "outputs": [],
   "metadata": {}
  }
 ],
 "metadata": {
  "kernelspec": {
   "name": "python3",
   "display_name": "Python 3.8.8 64-bit ('tf_gpu': conda)"
  },
  "language_info": {
   "codemirror_mode": {
    "name": "ipython",
    "version": 3
   },
   "file_extension": ".py",
   "mimetype": "text/x-python",
   "name": "python",
   "nbconvert_exporter": "python",
   "pygments_lexer": "ipython3",
   "version": "3.8.8"
  },
  "interpreter": {
   "hash": "1207818f02c8e106e76b126192fd4af7c5708815ebe301344494fac4b3fd23ae"
  }
 },
 "nbformat": 4,
 "nbformat_minor": 5
}